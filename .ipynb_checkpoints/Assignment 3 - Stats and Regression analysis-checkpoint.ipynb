{
 "cells": [
  {
   "cell_type": "markdown",
   "id": "25bdd40c",
   "metadata": {},
   "source": [
    "1. Scenario: A company wants to analyze the sales performance of its products in different regions. They have collected the following data:\n",
    "   Region A: [10, 15, 12, 8, 14]\n",
    "   Region B: [18, 20, 16, 22, 25]\n",
    "   Calculate the mean sales for each region.\n",
    "\n"
   ]
  },
  {
   "cell_type": "code",
   "execution_count": 1,
   "id": "fe502872",
   "metadata": {},
   "outputs": [
    {
     "name": "stdout",
     "output_type": "stream",
     "text": [
      "Mean sales for Region A: 11.8\n",
      "Mean sales for Region B: 20.2\n"
     ]
    }
   ],
   "source": [
    "# Sales data for regions\n",
    "region_a_sales = [10, 15, 12, 8, 14]\n",
    "region_b_sales = [18, 20, 16, 22, 25]\n",
    "\n",
    "# Calculate mean sales for Region A\n",
    "mean_sales_region_a = sum(region_a_sales) / len(region_a_sales)\n",
    "print(\"Mean sales for Region A:\", mean_sales_region_a)\n",
    "\n",
    "# Calculate mean sales for Region B\n",
    "mean_sales_region_b = sum(region_b_sales) / len(region_b_sales)\n",
    "print(\"Mean sales for Region B:\", mean_sales_region_b)\n"
   ]
  },
  {
   "cell_type": "code",
   "execution_count": null,
   "id": "adb18ed5",
   "metadata": {},
   "outputs": [],
   "source": []
  },
  {
   "cell_type": "markdown",
   "id": "e5f52167",
   "metadata": {},
   "source": [
    "2. Scenario: A survey is conducted to measure customer satisfaction on a scale of 1 to 5. The data collected is as follows:\n",
    "   [4, 5, 2, 3, 5, 4, 3, 2, 4, 5]\n",
    "   Calculate the mode of the survey responses.\n",
    "\n"
   ]
  },
  {
   "cell_type": "code",
   "execution_count": 3,
   "id": "3c64c4cb",
   "metadata": {},
   "outputs": [
    {
     "name": "stdout",
     "output_type": "stream",
     "text": [
      "Mode of the survey responses: 4\n"
     ]
    }
   ],
   "source": [
    "from statistics import mode\n",
    "\n",
    "# Survey response data\n",
    "survey_responses = [4, 5, 2, 3, 5, 4, 3, 2, 4, 5]\n",
    "\n",
    "# Calculate mode of the survey responses\n",
    "survey_mode = mode(survey_responses)\n",
    "print(\"Mode of the survey responses:\", survey_mode)"
   ]
  },
  {
   "cell_type": "code",
   "execution_count": null,
   "id": "5b1dc3c5",
   "metadata": {},
   "outputs": [],
   "source": []
  },
  {
   "cell_type": "markdown",
   "id": "96b5dc58",
   "metadata": {},
   "source": [
    "3. Scenario: A company wants to compare the salaries of two departments. The salary data for Department A and Department B are as follows:\n",
    "   Department A: [5000, 6000, 5500, 7000]\n",
    "   Department B: [4500, 5500, 5800, 6000, 5200]\n",
    "   Calculate the median salary for each department.\n"
   ]
  },
  {
   "cell_type": "code",
   "execution_count": 4,
   "id": "19bdb187",
   "metadata": {},
   "outputs": [
    {
     "name": "stdout",
     "output_type": "stream",
     "text": [
      "Median salary for Department A: 5750.0\n",
      "Median salary for Department B: 5500\n"
     ]
    }
   ],
   "source": [
    "from statistics import median\n",
    "\n",
    "# Salary data for departments\n",
    "department_a_salary = [5000, 6000, 5500, 7000]\n",
    "department_b_salary = [4500, 5500, 5800, 6000, 5200]\n",
    "\n",
    "# Calculate median salary for Department A\n",
    "median_salary_department_a = median(department_a_salary)\n",
    "print(\"Median salary for Department A:\", median_salary_department_a)\n",
    "\n",
    "# Calculate median salary for Department B\n",
    "median_salary_department_b = median(department_b_salary)\n",
    "print(\"Median salary for Department B:\", median_salary_department_b)\n"
   ]
  },
  {
   "cell_type": "code",
   "execution_count": null,
   "id": "677c3a1c",
   "metadata": {},
   "outputs": [],
   "source": []
  },
  {
   "cell_type": "markdown",
   "id": "0dc5ee23",
   "metadata": {},
   "source": [
    "4. Scenario: A data analyst wants to determine the variability in the daily stock prices of a company. The data collected is as follows:\n",
    "   [25.5, 24.8, 26.1, 25.3, 24.9]\n",
    "   Calculate the range of the stock prices.\n",
    "\n"
   ]
  },
  {
   "cell_type": "code",
   "execution_count": 5,
   "id": "68b929dd",
   "metadata": {},
   "outputs": [
    {
     "name": "stdout",
     "output_type": "stream",
     "text": [
      "1.3000000000000007\n"
     ]
    }
   ],
   "source": [
    "data = [25.5, 24.8, 26.1, 25.3, 24.9]\n",
    "range = max(data)-min(data)\n",
    "print(range)"
   ]
  },
  {
   "cell_type": "code",
   "execution_count": null,
   "id": "f3214fc4",
   "metadata": {},
   "outputs": [],
   "source": []
  },
  {
   "cell_type": "markdown",
   "id": "36dd7a9f",
   "metadata": {},
   "source": [
    "5. Scenario: A study is conducted to compare the performance of two different teaching methods. The test scores of the students in each group are as follows:\n",
    "   Group A: [85, 90, 92, 88, 91]\n",
    "   Group B: [82, 88, 90, 86, 87]\n",
    "   Perform a t-test to determine if there is a significant difference in the mean scores between the two groups.\n",
    "\n"
   ]
  },
  {
   "cell_type": "markdown",
   "id": "f82cb4c3",
   "metadata": {},
   "source": [
    "**Ans:-**\n",
    "To perform a t-test and determine if there is a significant difference in the mean scores between Group A and Group B, you can use the scipy.stats module in Python."
   ]
  },
  {
   "cell_type": "code",
   "execution_count": 6,
   "id": "cce202b2",
   "metadata": {},
   "outputs": [
    {
     "name": "stdout",
     "output_type": "stream",
     "text": [
      "There is no significant difference in the mean scores between the two groups.\n"
     ]
    }
   ],
   "source": [
    "from scipy import stats\n",
    "\n",
    "# Test scores for groups\n",
    "group_a_scores = [85, 90, 92, 88, 91]\n",
    "group_b_scores = [82, 88, 90, 86, 87]\n",
    "\n",
    "# Perform independent t-test\n",
    "t_statistic, p_value = stats.ttest_ind(group_a_scores, group_b_scores)\n",
    "\n",
    "# Check significance level\n",
    "alpha = 0.05\n",
    "if p_value < alpha:\n",
    "    print(\"There is a significant difference in the mean scores between the two groups.\")\n",
    "else:\n",
    "    print(\"There is no significant difference in the mean scores between the two groups.\")"
   ]
  },
  {
   "cell_type": "markdown",
   "id": "9897a2be",
   "metadata": {},
   "source": [
    "The independent t-test compares the means of two independent groups (Group A and Group B) and returns the t-statistic and p-value. If the p-value is less than the chosen significance level (commonly 0.05), it suggests a significant difference in the means."
   ]
  },
  {
   "cell_type": "code",
   "execution_count": null,
   "id": "a3fb4bc4",
   "metadata": {},
   "outputs": [],
   "source": []
  },
  {
   "cell_type": "markdown",
   "id": "819bbdd6",
   "metadata": {},
   "source": [
    "6. Scenario: A company wants to analyze the relationship between advertising expenditure and sales. The data collected is as follows:\n",
    "   Advertising Expenditure (in thousands): [10, 15, 12, 8, 14]\n",
    "   Sales (in thousands): [25, 30, 28, 20, 26]\n",
    "   Calculate the correlation coefficient between advertising expenditure and sales.\n"
   ]
  },
  {
   "cell_type": "code",
   "execution_count": 7,
   "id": "0d32e004",
   "metadata": {},
   "outputs": [
    {
     "name": "stdout",
     "output_type": "stream",
     "text": [
      "Correlation coefficient between advertising expenditure and sales: 0.8757511375750133\n"
     ]
    }
   ],
   "source": [
    "import numpy as np\n",
    "\n",
    "# Advertising expenditure (in thousands)\n",
    "advertising_expenditure = [10, 15, 12, 8, 14]\n",
    "\n",
    "# Sales (in thousands)\n",
    "sales = [25, 30, 28, 20, 26]\n",
    "\n",
    "# Calculate correlation coefficient\n",
    "correlation_coefficient = np.corrcoef(advertising_expenditure, sales)[0, 1]\n",
    "\n",
    "print(\"Correlation coefficient between advertising expenditure and sales:\", correlation_coefficient)\n"
   ]
  },
  {
   "cell_type": "code",
   "execution_count": 8,
   "id": "cdf5c1b7",
   "metadata": {},
   "outputs": [
    {
     "data": {
      "text/plain": [
       "array([[1.        , 0.87575114],\n",
       "       [0.87575114, 1.        ]])"
      ]
     },
     "execution_count": 8,
     "metadata": {},
     "output_type": "execute_result"
    }
   ],
   "source": [
    "np.corrcoef(advertising_expenditure, sales)"
   ]
  },
  {
   "cell_type": "markdown",
   "id": "e3ad8632",
   "metadata": {},
   "source": [
    "The np.corrcoef() function computes the correlation matrix for the given variables. Since we have two variables, advertising expenditure and sales, we access the correlation coefficient value at index [0, 1] of the correlation matrix. The correlation coefficient ranges from -1 to 1, where a positive value indicates a positive correlation, a negative value indicates a negative correlation, and a value close to zero indicates a weak or no correlation."
   ]
  },
  {
   "cell_type": "code",
   "execution_count": null,
   "id": "28e15ac9",
   "metadata": {},
   "outputs": [],
   "source": []
  },
  {
   "cell_type": "markdown",
   "id": "722f965b",
   "metadata": {},
   "source": [
    "7. Scenario: A survey is conducted to measure the heights of a group of people. The data collected is as follows:\n",
    "   [160, 170, 165, 155, 175, 180, 170]\n",
    "   Calculate the standard deviation of the heights.\n",
    "\n"
   ]
  },
  {
   "cell_type": "code",
   "execution_count": 9,
   "id": "2dd79e19",
   "metadata": {},
   "outputs": [
    {
     "name": "stdout",
     "output_type": "stream",
     "text": [
      "Standard deviation of heights: 7.953949089757174\n"
     ]
    }
   ],
   "source": [
    "import numpy as np\n",
    "\n",
    "# Heights data\n",
    "heights = [160, 170, 165, 155, 175, 180, 170]\n",
    "\n",
    "# Calculate standard deviation\n",
    "std_deviation = np.std(heights)\n",
    "\n",
    "print(\"Standard deviation of heights:\", std_deviation)"
   ]
  },
  {
   "cell_type": "code",
   "execution_count": null,
   "id": "621e62ac",
   "metadata": {},
   "outputs": [],
   "source": []
  },
  {
   "cell_type": "markdown",
   "id": "17df5064",
   "metadata": {},
   "source": [
    "8. Scenario: A company wants to analyze the relationship between employee tenure and job satisfaction. The data collected is as follows:\n",
    "   Employee Tenure (in years): [2, 3, 5, 4, 6, 2, 4]\n",
    "   Job Satisfaction (on a scale of 1 to 10): [7, 8, 6, 9, 5, 7, 6]\n",
    "   Perform a linear regression analysis to predict job satisfaction based on employee tenure.\n"
   ]
  },
  {
   "cell_type": "code",
   "execution_count": 10,
   "id": "3b80064f",
   "metadata": {},
   "outputs": [
    {
     "name": "stdout",
     "output_type": "stream",
     "text": [
      "Slope: -0.4680851063829786\n",
      "Intercept: 8.595744680851062\n",
      "R-value (correlation coefficient): -0.520573376708331\n",
      "P-value: 0.23095550952297988\n",
      "Standard error: 0.3433386000671372\n"
     ]
    }
   ],
   "source": [
    "from scipy import stats\n",
    "\n",
    "# Employee tenure (in years)\n",
    "employee_tenure = [2, 3, 5, 4, 6, 2, 4]\n",
    "\n",
    "# Job satisfaction (on a scale of 1 to 10)\n",
    "job_satisfaction = [7, 8, 6, 9, 5, 7, 6]\n",
    "\n",
    "# Perform linear regression analysis\n",
    "slope, intercept, r_value, p_value, std_err = stats.linregress(employee_tenure, job_satisfaction)\n",
    "\n",
    "print(\"Slope:\", slope)\n",
    "print(\"Intercept:\", intercept)\n",
    "print(\"R-value (correlation coefficient):\", r_value)\n",
    "print(\"P-value:\", p_value)\n",
    "print(\"Standard error:\", std_err)"
   ]
  },
  {
   "cell_type": "markdown",
   "id": "4ef1e472",
   "metadata": {},
   "source": [
    "The stats.linregress() function performs a linear regression analysis between two variables. It returns the slope (regression coefficient), intercept (y-intercept), correlation coefficient (r-value), p-value, and standard error. The slope represents the change in the dependent variable (job satisfaction) per unit change in the independent variable (employee tenure). The intercept represents the predicted job satisfaction when the employee tenure is zero.\n",
    "\n",
    "The correlation coefficient (r-value) indicates the strength and direction of the linear relationship between the two variables. The p-value represents the significance of the linear relationship, and the standard error represents the accuracy of the predicted job satisfaction values.\n",
    "\n",
    "\n",
    "\n",
    "\n",
    "\n",
    "\n"
   ]
  },
  {
   "cell_type": "code",
   "execution_count": null,
   "id": "339f7eaa",
   "metadata": {},
   "outputs": [],
   "source": []
  },
  {
   "cell_type": "markdown",
   "id": "e87d3036",
   "metadata": {},
   "source": [
    "9. Scenario: A study is conducted to compare the effectiveness of two different medications. The recovery times of the patients in each group are as follows:\n",
    "   Medication A: [10, 12, 14, 11, 13]\n",
    "   Medication B: [15, 17, 16, 14, 18]\n",
    "   Perform an analysis of variance (ANOVA) to determine if there is a significant difference in the mean recovery times between the two medications.\n",
    "\n"
   ]
  },
  {
   "cell_type": "code",
   "execution_count": 11,
   "id": "ce546da3",
   "metadata": {},
   "outputs": [
    {
     "name": "stdout",
     "output_type": "stream",
     "text": [
      "There is a significant difference in the mean recovery times between the two medications.\n"
     ]
    }
   ],
   "source": [
    "from scipy import stats\n",
    "\n",
    "# Recovery times for medications\n",
    "medication_a_recovery_times = [10, 12, 14, 11, 13]\n",
    "medication_b_recovery_times = [15, 17, 16, 14, 18]\n",
    "\n",
    "# Perform ANOVA\n",
    "f_statistic, p_value = stats.f_oneway(medication_a_recovery_times, medication_b_recovery_times)\n",
    "\n",
    "# Check significance level\n",
    "alpha = 0.05\n",
    "if p_value < alpha:\n",
    "    print(\"There is a significant difference in the mean recovery times between the two medications.\")\n",
    "else:\n",
    "    print(\"There is no significant difference in the mean recovery times between the two medications.\")\n"
   ]
  },
  {
   "cell_type": "markdown",
   "id": "34d20afb",
   "metadata": {},
   "source": [
    "The stats.f_oneway() function from the scipy.stats module performs a one-way ANOVA test to compare the means of multiple groups. It returns the F-statistic and the p-value. If the p-value is less than the chosen significance level (commonly 0.05), it suggests a significant difference in the means."
   ]
  },
  {
   "cell_type": "code",
   "execution_count": null,
   "id": "de29516d",
   "metadata": {},
   "outputs": [],
   "source": []
  },
  {
   "cell_type": "markdown",
   "id": "b02fe4c2",
   "metadata": {},
   "source": [
    "10. Scenario: A company wants to analyze customer feedback ratings on a scale of 1 to 10. The data collected is\n",
    "\n",
    " as follows:\n",
    "    [8, 9, 7, 6, 8, 10, 9, 8, 7, 8]\n",
    "    Calculate the 75th percentile of the feedback ratings.\n"
   ]
  },
  {
   "cell_type": "code",
   "execution_count": 12,
   "id": "419364a2",
   "metadata": {},
   "outputs": [
    {
     "name": "stdout",
     "output_type": "stream",
     "text": [
      "75th percentile of the feedback ratings: 8.75\n"
     ]
    }
   ],
   "source": [
    "import numpy as np\n",
    "\n",
    "# Feedback ratings data\n",
    "feedback_ratings = [8, 9, 7, 6, 8, 10, 9, 8, 7, 8]\n",
    "\n",
    "# Calculate the 75th percentile\n",
    "percentile_75 = np.percentile(feedback_ratings, 75)\n",
    "\n",
    "print(\"75th percentile of the feedback ratings:\", percentile_75)"
   ]
  },
  {
   "cell_type": "code",
   "execution_count": null,
   "id": "97db14bc",
   "metadata": {},
   "outputs": [],
   "source": []
  },
  {
   "cell_type": "markdown",
   "id": "17b0b3f9",
   "metadata": {},
   "source": [
    "11. Scenario: A quality control department wants to test the weight consistency of a product. The weights of a sample of products are as follows:\n",
    "    [10.2, 9.8, 10.0, 10.5, 10.3, 10.1]\n",
    "    Perform a hypothesis test to determine if the mean weight differs significantly from 10 grams.\n",
    "\n",
    "\n"
   ]
  },
  {
   "cell_type": "markdown",
   "id": "2d9125c7",
   "metadata": {},
   "source": [
    "**Ans:-**\n",
    "To perform a hypothesis test to determine if the mean weight differs significantly from 10 grams, you can use a one-sample t-test. Here's how you can do it using the scipy.stats module in Python:"
   ]
  },
  {
   "cell_type": "code",
   "execution_count": 14,
   "id": "05d9f601",
   "metadata": {},
   "outputs": [
    {
     "name": "stdout",
     "output_type": "stream",
     "text": [
      "The mean weight does not differ significantly from 10 grams.\n"
     ]
    }
   ],
   "source": [
    "from scipy import stats\n",
    "\n",
    "# Weight data\n",
    "weights = [10.2, 9.8, 10.0, 10.5, 10.3, 10.1]\n",
    "\n",
    "# Perform one-sample t-test\n",
    "t_statistic, p_value = stats.ttest_1samp(weights, 10)\n",
    "\n",
    "# Check significance level\n",
    "alpha = 0.05\n",
    "if p_value < alpha:\n",
    "    print(\"The mean weight differs significantly from 10 grams.\")\n",
    "else:\n",
    "    print(\"The mean weight does not differ significantly from 10 grams.\")"
   ]
  },
  {
   "cell_type": "markdown",
   "id": "d671ed82",
   "metadata": {},
   "source": [
    "The stats.ttest_1samp() function performs a one-sample t-test to compare the mean of a sample with a given population mean. In this case, we compare the mean weight with 10 grams. The function returns the t-statistic and the p-value. If the p-value is less than the chosen significance level (commonly 0.05), it suggests a significant difference in means."
   ]
  },
  {
   "cell_type": "code",
   "execution_count": null,
   "id": "6f2450db",
   "metadata": {},
   "outputs": [],
   "source": []
  },
  {
   "cell_type": "markdown",
   "id": "3d374c10",
   "metadata": {},
   "source": [
    "12. Scenario: A company wants to analyze the click-through rates of two different website designs. The number of clicks for each design is as follows:\n",
    "    Design A: [100, 120, 110, 90, 95]\n",
    "    Design B: [80, 85, 90, 95, 100]\n",
    "    Perform a chi-square test to determine if there is a significant difference in the click-through rates between the two designs.\n",
    "\n"
   ]
  },
  {
   "cell_type": "code",
   "execution_count": 18,
   "id": "ee22a675",
   "metadata": {},
   "outputs": [
    {
     "name": "stdout",
     "output_type": "stream",
     "text": [
      "There is no significant difference in the click-through rates between the two designs.\n"
     ]
    }
   ],
   "source": [
    "from scipy.stats import chi2_contingency\n",
    "\n",
    "# Click-through rates for designs\n",
    "design_a_clicks = [100, 120, 110, 90, 95]\n",
    "design_b_clicks = [80, 85, 90, 95, 100]\n",
    "\n",
    "# Combine the click-through rates for both designs\n",
    "combined_clicks = [design_a_clicks, design_b_clicks]\n",
    "\n",
    "# Perform chi-square test\n",
    "chi2_statistic, p_value, _, _ = chi2_contingency(combined_clicks)\n",
    "\n",
    "# Check significance level\n",
    "alpha = 0.05\n",
    "if p_value < alpha:\n",
    "    print(\"There is a significant difference in the click-through rates between the two designs.\")\n",
    "else:\n",
    "    print(\"There is no significant difference in the click-through rates between the two designs.\")\n"
   ]
  },
  {
   "cell_type": "markdown",
   "id": "3ea2aba6",
   "metadata": {},
   "source": [
    "I used the chi2_contingency function from the scipy.stats module. This function performs a chi-square test of independence on the input data, assuming equal probabilities. The function returns the chi-square statistic, p-value, degrees of freedom, and expected frequencies."
   ]
  },
  {
   "cell_type": "code",
   "execution_count": null,
   "id": "899a4fff",
   "metadata": {},
   "outputs": [],
   "source": []
  },
  {
   "cell_type": "markdown",
   "id": "343b9fb6",
   "metadata": {},
   "source": [
    "13. Scenario: A survey is conducted to measure customer satisfaction with a product on a scale of 1 to 10. The data collected is as follows:\n",
    "    [7, 9, 6, 8, 10, 7, 8, 9, 7, 8]\n",
    "    Calculate the 95% confidence interval for the population mean satisfaction score."
   ]
  },
  {
   "cell_type": "code",
   "execution_count": 19,
   "id": "30df541b",
   "metadata": {},
   "outputs": [
    {
     "name": "stdout",
     "output_type": "stream",
     "text": [
      "95% confidence interval for the population mean satisfaction score: [6.225 9.775]\n"
     ]
    }
   ],
   "source": [
    "import numpy as np\n",
    "\n",
    "# Satisfaction scores data\n",
    "satisfaction_scores = [7, 9, 6, 8, 10, 7, 8, 9, 7, 8]\n",
    "\n",
    "# Calculate 95% confidence interval\n",
    "confidence_interval = np.percentile(satisfaction_scores, [2.5, 97.5])\n",
    "\n",
    "print(\"95% confidence interval for the population mean satisfaction score:\", confidence_interval)\n"
   ]
  },
  {
   "cell_type": "markdown",
   "id": "2274e4db",
   "metadata": {},
   "source": [
    "The np.percentile() function from the numpy library calculates the desired percentiles of the given data. In this case, we calculate the 2.5th and 97.5th percentiles to construct the 95% confidence interval. The confidence interval represents the range of values within which the population mean is estimated to fall with a given level of confidence."
   ]
  },
  {
   "cell_type": "code",
   "execution_count": null,
   "id": "09073ff9",
   "metadata": {},
   "outputs": [],
   "source": []
  },
  {
   "cell_type": "markdown",
   "id": "8342d919",
   "metadata": {},
   "source": [
    "14. Scenario: A company wants to analyze the effect of temperature on product performance. The data collected is as follows:\n",
    "    Temperature (in degrees Celsius): [20, 22, 23, 19, 21]\n",
    "    Performance (on a scale of 1 to 10): [8, 7, 9, 6, 8]\n",
    "    Perform a simple linear regression to predict performance based on temperature.\n",
    "\n"
   ]
  },
  {
   "cell_type": "code",
   "execution_count": 20,
   "id": "c29f1720",
   "metadata": {},
   "outputs": [
    {
     "name": "stdout",
     "output_type": "stream",
     "text": [
      "Linear Regression Equation: Performance = 0.4999999999999999 * Temperature + -2.8999999999999986\n",
      "Predicted Performance at Temperature 25: [9.6]\n"
     ]
    }
   ],
   "source": [
    "from sklearn.linear_model import LinearRegression\n",
    "import numpy as np\n",
    "\n",
    "# Input data\n",
    "temperature = np.array([20, 22, 23, 19, 21]).reshape(-1, 1)\n",
    "performance = np.array([8, 7, 9, 6, 8])\n",
    "\n",
    "# Create and fit the linear regression model\n",
    "regression_model = LinearRegression()\n",
    "regression_model.fit(temperature, performance)\n",
    "\n",
    "# Get the coefficients and intercept\n",
    "slope = regression_model.coef_[0]\n",
    "intercept = regression_model.intercept_\n",
    "\n",
    "# Predict performance for a new temperature\n",
    "new_temperature = 25\n",
    "predicted_performance = regression_model.predict([[new_temperature]])\n",
    "\n",
    "print(\"Linear Regression Equation: Performance = {} * Temperature + {}\".format(slope, intercept))\n",
    "print(\"Predicted Performance at Temperature {}: {}\".format(new_temperature, predicted_performance))"
   ]
  },
  {
   "cell_type": "code",
   "execution_count": null,
   "id": "53d447ab",
   "metadata": {},
   "outputs": [],
   "source": []
  },
  {
   "cell_type": "markdown",
   "id": "8a5e8662",
   "metadata": {},
   "source": [
    "15. Scenario: A study is conducted to compare the preferences of two groups of participants. The preferences are measured on a Likert scale from 1 to 5. The data collected is as follows:\n",
    "    Group A: [4, 3, 5, 2, 4]\n",
    "    Group B: [3, 2, 4, 3, 3]\n",
    "    Perform a Mann-Whitney U test to determine if there is a significant difference in the median preferences between the two groups.\n"
   ]
  },
  {
   "cell_type": "markdown",
   "id": "e7e1ce5a",
   "metadata": {},
   "source": [
    "**Ans:-**\n",
    "To perform a Mann-Whitney U test to determine if there is a significant difference in the median preferences between two groups (Group A and Group B), we can use the collected data:\n",
    "Group A: [4, 3, 5, 2, 4]\n",
    "Group B: [3, 2, 4, 3, 3]\n",
    "\n",
    "The Mann-Whitney U test is a nonparametric test that assesses whether two independent samples come from the same population or have different median values. It is useful when the data does not meet the assumptions required for parametric tests like the t-test."
   ]
  },
  {
   "cell_type": "code",
   "execution_count": 21,
   "id": "de6b7824",
   "metadata": {},
   "outputs": [
    {
     "name": "stdout",
     "output_type": "stream",
     "text": [
      "Mann-Whitney U test statistic: 17.0\n",
      "p-value: 0.380836480306712\n"
     ]
    }
   ],
   "source": [
    "from scipy.stats import mannwhitneyu\n",
    "\n",
    "# Input data\n",
    "group_a = [4, 3, 5, 2, 4]\n",
    "group_b = [3, 2, 4, 3, 3]\n",
    "\n",
    "# Perform the Mann-Whitney U test\n",
    "statistic, p_value = mannwhitneyu(group_a, group_b)\n",
    "\n",
    "print(\"Mann-Whitney U test statistic: {}\".format(statistic))\n",
    "print(\"p-value: {}\".format(p_value))\n"
   ]
  },
  {
   "cell_type": "markdown",
   "id": "492f7011",
   "metadata": {},
   "source": [
    "The output will provide the test statistic and the p-value. If the p-value is below a chosen significance level (e.g., 0.05), it indicates a significant difference in the median preferences between the two groups."
   ]
  },
  {
   "cell_type": "code",
   "execution_count": null,
   "id": "0ba81540",
   "metadata": {},
   "outputs": [],
   "source": []
  },
  {
   "cell_type": "markdown",
   "id": "4a4bd986",
   "metadata": {},
   "source": [
    "16. Scenario: A company wants to analyze the distribution of customer ages. The data collected is as follows:\n",
    "    [25, 30, 35, 40, 45, 50, 55, 60, 65, 70]\n",
    "    Calculate the interquartile range (IQR) of the ages.\n",
    "\n"
   ]
  },
  {
   "cell_type": "code",
   "execution_count": 22,
   "id": "408752f4",
   "metadata": {},
   "outputs": [
    {
     "name": "stdout",
     "output_type": "stream",
     "text": [
      "Q1: 36.25\n",
      "Q3: 58.75\n",
      "Interquartile Range (IQR): 22.5\n"
     ]
    }
   ],
   "source": [
    "import numpy as np\n",
    "\n",
    "# Input data\n",
    "ages = [25, 30, 35, 40, 45, 50, 55, 60, 65, 70]\n",
    "\n",
    "# Calculate the first quartile (Q1)\n",
    "q1 = np.percentile(ages, 25)\n",
    "\n",
    "# Calculate the third quartile (Q3)\n",
    "q3 = np.percentile(ages, 75)\n",
    "\n",
    "# Calculate the interquartile range (IQR)\n",
    "iqr = q3 - q1\n",
    "\n",
    "print(\"Q1: {}\".format(q1))\n",
    "print(\"Q3: {}\".format(q3))\n",
    "print(\"Interquartile Range (IQR): {}\".format(iqr))\n"
   ]
  },
  {
   "cell_type": "code",
   "execution_count": null,
   "id": "32ef6d36",
   "metadata": {},
   "outputs": [],
   "source": []
  },
  {
   "cell_type": "code",
   "execution_count": null,
   "id": "86d6c43a",
   "metadata": {},
   "outputs": [],
   "source": []
  },
  {
   "cell_type": "markdown",
   "id": "bcb38d4f",
   "metadata": {},
   "source": [
    "17. Scenario: A study is conducted to compare the performance of three different machine learning algorithms. The accuracy scores for each algorithm are as follows:\n",
    "    Algorithm A: [0.85, 0.80, 0.82, 0.87, 0.83]\n",
    "    Algorithm B: [0.78, 0.82, 0.84, 0.80, 0.79]\n",
    "    Algorithm C: [0.90, 0.88, 0.89, 0.86, 0.87]\n",
    "    Perform a Kruskal-Wallis test to determine if there is a significant difference in the median accuracy scores between the algorithms.\n"
   ]
  },
  {
   "cell_type": "markdown",
   "id": "5c650a7f",
   "metadata": {},
   "source": [
    "**Ans:-**\n",
    "To perform a Kruskal-Wallis test to determine if there is a significant difference in the median accuracy scores between three different machine learning algorithms (Algorithm A, Algorithm B, and Algorithm C), we can use the collected data:\n",
    "Algorithm A: [0.85, 0.80, 0.82, 0.87, 0.83]\n",
    "Algorithm B: [0.78, 0.82, 0.84, 0.80, 0.79]\n",
    "Algorithm C: [0.90, 0.88, 0.89, 0.86, 0.87]\n",
    "\n",
    "The Kruskal-Wallis test is a nonparametric test used to compare the medians of two or more independent groups. It is an extension of the Mann-Whitney U test for multiple groups."
   ]
  },
  {
   "cell_type": "code",
   "execution_count": 23,
   "id": "198db605",
   "metadata": {},
   "outputs": [
    {
     "name": "stdout",
     "output_type": "stream",
     "text": [
      "Kruskal-Wallis test statistic: 9.696947935368053\n",
      "p-value: 0.007840333026249539\n"
     ]
    }
   ],
   "source": [
    "from scipy.stats import kruskal\n",
    "\n",
    "# Input data\n",
    "algorithm_a = [0.85, 0.80, 0.82, 0.87, 0.83]\n",
    "algorithm_b = [0.78, 0.82, 0.84, 0.80, 0.79]\n",
    "algorithm_c = [0.90, 0.88, 0.89, 0.86, 0.87]\n",
    "\n",
    "# Perform the Kruskal-Wallis test\n",
    "statistic, p_value = kruskal(algorithm_a, algorithm_b, algorithm_c)\n",
    "\n",
    "print(\"Kruskal-Wallis test statistic: {}\".format(statistic))\n",
    "print(\"p-value: {}\".format(p_value))\n"
   ]
  },
  {
   "cell_type": "markdown",
   "id": "060f1ae4",
   "metadata": {},
   "source": [
    "The output will provide the test statistic and the p-value. If the p-value is below a chosen significance level (e.g., 0.05), it indicates a significant difference in the median accuracy scores between the algorithms."
   ]
  },
  {
   "cell_type": "code",
   "execution_count": null,
   "id": "e3352ad7",
   "metadata": {},
   "outputs": [],
   "source": []
  },
  {
   "cell_type": "markdown",
   "id": "5528facd",
   "metadata": {},
   "source": [
    "18. Scenario: A company wants to analyze the effect of price on sales. The data collected is as follows:\n",
    "    Price (in dollars): [10, 15, 12, 8, 14]\n",
    "    Sales: [100, 80, 90, 110, 95]\n",
    "    Perform a simple linear regression to predict\n",
    "\n",
    " sales based on price.\n",
    "\n"
   ]
  },
  {
   "cell_type": "code",
   "execution_count": 25,
   "id": "4ca73c31",
   "metadata": {},
   "outputs": [
    {
     "name": "stdout",
     "output_type": "stream",
     "text": [
      "Linear Regression Equation: Sales = -3.5060975609756113 * Price + 136.37195121951223\n",
      "Predicted Sales at Price 13: [90.79268293]\n"
     ]
    }
   ],
   "source": [
    "from sklearn.linear_model import LinearRegression\n",
    "import numpy as np\n",
    "\n",
    "# Input data\n",
    "price = np.array([10, 15, 12, 8, 14]).reshape(-1, 1)\n",
    "sales = np.array([100, 80, 90, 110, 95])\n",
    "\n",
    "# Create and fit the linear regression model\n",
    "regression_model = LinearRegression()\n",
    "regression_model.fit(price, sales)\n",
    "\n",
    "# Get the coefficients and intercept\n",
    "slope = regression_model.coef_[0]\n",
    "intercept = regression_model.intercept_\n",
    "\n",
    "# Predict sales for a new price\n",
    "new_price = 13\n",
    "predicted_sales = regression_model.predict([[new_price]])\n",
    "\n",
    "print(\"Linear Regression Equation: Sales = {} * Price + {}\".format(slope, intercept))\n",
    "print(\"Predicted Sales at Price {}: {}\".format(new_price, predicted_sales))"
   ]
  },
  {
   "cell_type": "code",
   "execution_count": null,
   "id": "aa47fcca",
   "metadata": {},
   "outputs": [],
   "source": []
  },
  {
   "cell_type": "markdown",
   "id": "c0b86b7f",
   "metadata": {},
   "source": [
    "19. Scenario: A survey is conducted to measure the satisfaction levels of customers with a new product. The data collected is as follows:\n",
    "    [7, 8, 9, 6, 8, 7, 9, 7, 8, 7]\n",
    "    Calculate the standard error of the mean satisfaction score.\n",
    "\n"
   ]
  },
  {
   "cell_type": "markdown",
   "id": "45f49bf8",
   "metadata": {},
   "source": [
    "**Ans:-**\n",
    "The standard error of the mean (SEM) is a measure of the variability or precision of the sample mean. It estimates the average distance between the sample mean and the true population mean."
   ]
  },
  {
   "cell_type": "code",
   "execution_count": 26,
   "id": "5566052f",
   "metadata": {},
   "outputs": [
    {
     "name": "stdout",
     "output_type": "stream",
     "text": [
      "Standard Error of the Mean (SEM): 0.28982753492378877\n"
     ]
    }
   ],
   "source": [
    "import numpy as np\n",
    "\n",
    "# Input data\n",
    "satisfaction_scores = [7, 8, 9, 6, 8, 7, 9, 7, 8, 7]\n",
    "\n",
    "# Calculate the standard error of the mean\n",
    "sem = np.std(satisfaction_scores) / np.sqrt(len(satisfaction_scores))\n",
    "\n",
    "print(\"Standard Error of the Mean (SEM): {}\".format(sem))\n"
   ]
  },
  {
   "cell_type": "code",
   "execution_count": null,
   "id": "fad25dcd",
   "metadata": {},
   "outputs": [],
   "source": []
  },
  {
   "cell_type": "markdown",
   "id": "5fa51b11",
   "metadata": {},
   "source": [
    "20. Scenario: A company wants to analyze the relationship between advertising expenditure and sales. The data collected is as follows:\n",
    "    Advertising Expenditure (in thousands): [10, 15, 12, 8, 14]\n",
    "    Sales (in thousands): [25, 30, 28, 20, 26]\n",
    "    Perform a multiple regression analysis to predict sales based on advertising expenditure.\n",
    "\n"
   ]
  },
  {
   "cell_type": "code",
   "execution_count": 27,
   "id": "c79c83be",
   "metadata": {},
   "outputs": [
    {
     "name": "stdout",
     "output_type": "stream",
     "text": [
      "Multiple Regression Equation: Sales = 12.20121951219512 + 1.1524390243902436 * Advertising Expenditure\n"
     ]
    }
   ],
   "source": [
    "import statsmodels.api as sm\n",
    "import numpy as np\n",
    "\n",
    "# Input data\n",
    "advertising_expenditure = np.array([10, 15, 12, 8, 14])\n",
    "sales = np.array([25, 30, 28, 20, 26])\n",
    "\n",
    "# Add a constant term to the predictor variables\n",
    "X = sm.add_constant(advertising_expenditure)\n",
    "\n",
    "# Fit the multiple regression model\n",
    "regression_model = sm.OLS(sales, X)\n",
    "regression_results = regression_model.fit()\n",
    "\n",
    "# Get the coefficients\n",
    "coefficients = regression_results.params\n",
    "\n",
    "print(\"Multiple Regression Equation: Sales = {} + {} * Advertising Expenditure\".format(coefficients[0], coefficients[1]))\n"
   ]
  },
  {
   "cell_type": "code",
   "execution_count": null,
   "id": "1627e55a",
   "metadata": {},
   "outputs": [],
   "source": []
  },
  {
   "cell_type": "markdown",
   "id": "d7513ff7",
   "metadata": {},
   "source": [
    "### 1. "
   ]
  }
 ],
 "metadata": {
  "kernelspec": {
   "display_name": "Python 3 (ipykernel)",
   "language": "python",
   "name": "python3"
  },
  "language_info": {
   "codemirror_mode": {
    "name": "ipython",
    "version": 3
   },
   "file_extension": ".py",
   "mimetype": "text/x-python",
   "name": "python",
   "nbconvert_exporter": "python",
   "pygments_lexer": "ipython3",
   "version": "3.10.9"
  }
 },
 "nbformat": 4,
 "nbformat_minor": 5
}
