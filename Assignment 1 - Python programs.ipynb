{
 "cells": [
  {
   "cell_type": "markdown",
   "id": "85050430",
   "metadata": {},
   "source": [
    "### 1. Write a Python program to reverse a string without using any built-in string reversal functions."
   ]
  },
  {
   "cell_type": "code",
   "execution_count": 1,
   "id": "761c4769",
   "metadata": {},
   "outputs": [
    {
     "name": "stdout",
     "output_type": "stream",
     "text": [
      "!dlroW ,olleH\n"
     ]
    }
   ],
   "source": [
    "def reverse_string(string):\n",
    "    reversed_string = ''\n",
    "    for i in range(len(string)-1, -1, -1):\n",
    "        reversed_string += string[i]\n",
    "    return reversed_string\n",
    "\n",
    "# Example usage\n",
    "input_string = 'Hello, World!'\n",
    "reversed_string = reverse_string(input_string)\n",
    "print(reversed_string)"
   ]
  },
  {
   "cell_type": "code",
   "execution_count": null,
   "id": "e3f152b5",
   "metadata": {},
   "outputs": [],
   "source": []
  },
  {
   "cell_type": "markdown",
   "id": "c165cf33",
   "metadata": {},
   "source": [
    "### 2. Implement a function to check if a given string is a palindrome."
   ]
  },
  {
   "cell_type": "code",
   "execution_count": 2,
   "id": "7081d262",
   "metadata": {},
   "outputs": [
    {
     "name": "stdout",
     "output_type": "stream",
     "text": [
      "Palindrome\n"
     ]
    }
   ],
   "source": [
    "def is_palindrome(string):\n",
    "    left = 0\n",
    "    right = len(string) - 1\n",
    "\n",
    "    while left < right:\n",
    "        if string[left] != string[right]:\n",
    "            return False\n",
    "        left += 1\n",
    "        right -= 1\n",
    "\n",
    "    return True\n",
    "\n",
    "# Example usage\n",
    "input_string = 'radar'\n",
    "if is_palindrome(input_string):\n",
    "    print(\"Palindrome\")\n",
    "else:\n",
    "    print(\"Not a Palindrome\")"
   ]
  },
  {
   "cell_type": "code",
   "execution_count": null,
   "id": "d8e8a16e",
   "metadata": {},
   "outputs": [],
   "source": []
  },
  {
   "cell_type": "markdown",
   "id": "711e51e6",
   "metadata": {},
   "source": [
    "### 3. Write a program to find the largest element in a given list."
   ]
  },
  {
   "cell_type": "code",
   "execution_count": 3,
   "id": "faf0ed3d",
   "metadata": {},
   "outputs": [
    {
     "name": "stdout",
     "output_type": "stream",
     "text": [
      "30\n"
     ]
    }
   ],
   "source": [
    "def find_largest_element(lst):\n",
    "    largest = lst[0]\n",
    "\n",
    "    for num in lst:\n",
    "        if num > largest:\n",
    "            largest = num\n",
    "\n",
    "    return largest\n",
    "\n",
    "# Example usage\n",
    "input_list = [10, 5, 20, 15, 30]\n",
    "largest_element = find_largest_element(input_list)\n",
    "print(largest_element)"
   ]
  },
  {
   "cell_type": "code",
   "execution_count": null,
   "id": "f39de352",
   "metadata": {},
   "outputs": [],
   "source": []
  },
  {
   "cell_type": "markdown",
   "id": "5fc2ed38",
   "metadata": {},
   "source": [
    "### 4. Implement a function to count the occurrence of each element in a list."
   ]
  },
  {
   "cell_type": "code",
   "execution_count": 4,
   "id": "912c430e",
   "metadata": {},
   "outputs": [
    {
     "name": "stdout",
     "output_type": "stream",
     "text": [
      "{1: 3, 2: 2, 3: 2, 4: 1}\n"
     ]
    }
   ],
   "source": [
    "def count_elements(lst):\n",
    "    counts = {}\n",
    "\n",
    "    for element in lst:\n",
    "        if element in counts:\n",
    "            counts[element] += 1\n",
    "        else:\n",
    "            counts[element] = 1\n",
    "\n",
    "    return counts\n",
    "\n",
    "# Example usage\n",
    "input_list = [1, 2, 1, 3, 2, 4, 1, 3]\n",
    "element_counts = count_elements(input_list)\n",
    "print(element_counts)"
   ]
  },
  {
   "cell_type": "code",
   "execution_count": null,
   "id": "ac3d585c",
   "metadata": {},
   "outputs": [],
   "source": []
  },
  {
   "cell_type": "markdown",
   "id": "f2a147c5",
   "metadata": {},
   "source": [
    "### 5. Write a Python program to find the second largest number in a list."
   ]
  },
  {
   "cell_type": "code",
   "execution_count": 5,
   "id": "d8fb5e2e",
   "metadata": {},
   "outputs": [
    {
     "name": "stdout",
     "output_type": "stream",
     "text": [
      "20\n"
     ]
    }
   ],
   "source": [
    "def find_second_largest(lst):\n",
    "    largest = float('-inf')\n",
    "    second_largest = float('-inf')\n",
    "\n",
    "    for num in lst:\n",
    "        if num > largest:\n",
    "            second_largest = largest\n",
    "            largest = num\n",
    "        elif num > second_largest and num != largest:\n",
    "            second_largest = num\n",
    "\n",
    "    return second_largest\n",
    "\n",
    "# Example usage\n",
    "input_list = [10, 5, 20, 15, 30]\n",
    "second_largest = find_second_largest(input_list)\n",
    "print(second_largest)"
   ]
  },
  {
   "cell_type": "code",
   "execution_count": null,
   "id": "8d83ba48",
   "metadata": {},
   "outputs": [],
   "source": []
  },
  {
   "cell_type": "markdown",
   "id": "8baa6406",
   "metadata": {},
   "source": [
    "### 6. Implement a function to remove duplicate elements from a list."
   ]
  },
  {
   "cell_type": "code",
   "execution_count": 6,
   "id": "6545c191",
   "metadata": {},
   "outputs": [],
   "source": [
    "def remove_duplicates(lst):\n",
    "    return list(set(lst))"
   ]
  },
  {
   "cell_type": "code",
   "execution_count": null,
   "id": "9fcb8548",
   "metadata": {},
   "outputs": [],
   "source": []
  },
  {
   "cell_type": "markdown",
   "id": "0e1e9d8d",
   "metadata": {},
   "source": [
    "### 7. Write a program to calculate the factorial of a given number."
   ]
  },
  {
   "cell_type": "code",
   "execution_count": 7,
   "id": "656687fa",
   "metadata": {},
   "outputs": [],
   "source": [
    "def factorial(n):\n",
    "    if n == 0:\n",
    "        return 1\n",
    "    else:\n",
    "        return n * factorial(n - 1)"
   ]
  },
  {
   "cell_type": "code",
   "execution_count": null,
   "id": "fd219e63",
   "metadata": {},
   "outputs": [],
   "source": []
  },
  {
   "cell_type": "markdown",
   "id": "be8bc2e7",
   "metadata": {},
   "source": [
    "### 8. Implement a function to check if a given number is prime."
   ]
  },
  {
   "cell_type": "code",
   "execution_count": 8,
   "id": "6545bdee",
   "metadata": {},
   "outputs": [],
   "source": [
    "def is_prime(n):\n",
    "    if n <= 1:\n",
    "        return False\n",
    "    for i in range(2, int(n**0.5) + 1):\n",
    "        if n % i == 0:\n",
    "            return False\n",
    "    return True"
   ]
  },
  {
   "cell_type": "code",
   "execution_count": null,
   "id": "ad478e5c",
   "metadata": {},
   "outputs": [],
   "source": []
  },
  {
   "cell_type": "markdown",
   "id": "11c0a85a",
   "metadata": {},
   "source": [
    "### 9. Write a Python program to sort a list of integers in ascending order."
   ]
  },
  {
   "cell_type": "code",
   "execution_count": 9,
   "id": "32b55ea8",
   "metadata": {},
   "outputs": [],
   "source": [
    "def sort_list(lst):\n",
    "    return sorted(lst)"
   ]
  },
  {
   "cell_type": "code",
   "execution_count": null,
   "id": "8fed544e",
   "metadata": {},
   "outputs": [],
   "source": []
  },
  {
   "cell_type": "markdown",
   "id": "c53e4c24",
   "metadata": {},
   "source": [
    "### 10. Implement a function to find the sum of all numbers in a list."
   ]
  },
  {
   "cell_type": "code",
   "execution_count": 10,
   "id": "6d3fc637",
   "metadata": {},
   "outputs": [],
   "source": [
    "def sum_list(lst):\n",
    "    return sum(lst)"
   ]
  },
  {
   "cell_type": "code",
   "execution_count": null,
   "id": "c27b3d3c",
   "metadata": {},
   "outputs": [],
   "source": []
  },
  {
   "cell_type": "markdown",
   "id": "bc707275",
   "metadata": {},
   "source": [
    "### 11. Write a program to find the common elements between two lists."
   ]
  },
  {
   "cell_type": "code",
   "execution_count": 11,
   "id": "4591016a",
   "metadata": {},
   "outputs": [
    {
     "name": "stdout",
     "output_type": "stream",
     "text": [
      "[4, 5]\n"
     ]
    }
   ],
   "source": [
    "def find_common_elements(list1, list2):\n",
    "    common_elements = []\n",
    "    for element in list1:\n",
    "        if element in list2:\n",
    "            common_elements.append(element)\n",
    "    return common_elements\n",
    "\n",
    "# Example usage\n",
    "list1 = [1, 2, 3, 4, 5]\n",
    "list2 = [4, 5, 6, 7, 8]\n",
    "common_elements = find_common_elements(list1, list2)\n",
    "print(common_elements)  # Output: [4, 5]"
   ]
  },
  {
   "cell_type": "code",
   "execution_count": null,
   "id": "e3f642fc",
   "metadata": {},
   "outputs": [],
   "source": []
  },
  {
   "cell_type": "markdown",
   "id": "435dd070",
   "metadata": {},
   "source": [
    "### 12. Implement a function to check if a given string is an anagram of another string."
   ]
  },
  {
   "cell_type": "code",
   "execution_count": 12,
   "id": "2b47a22d",
   "metadata": {},
   "outputs": [
    {
     "name": "stdout",
     "output_type": "stream",
     "text": [
      "The strings are anagrams.\n"
     ]
    }
   ],
   "source": [
    "def is_anagram(str1, str2):\n",
    "    # Remove whitespace and convert to lowercase\n",
    "    str1 = str1.replace(\" \", \"\").lower()\n",
    "    str2 = str2.replace(\" \", \"\").lower()\n",
    "\n",
    "    # Check if the sorted characters are the same\n",
    "    return sorted(str1) == sorted(str2)\n",
    "\n",
    "# Example usage\n",
    "string1 = \"listen\"\n",
    "string2 = \"silent\"\n",
    "if is_anagram(string1, string2):\n",
    "    print(\"The strings are anagrams.\")\n",
    "else:\n",
    "    print(\"The strings are not anagrams.\")\n"
   ]
  },
  {
   "cell_type": "code",
   "execution_count": null,
   "id": "1f88e5a5",
   "metadata": {},
   "outputs": [],
   "source": []
  },
  {
   "cell_type": "markdown",
   "id": "4cbbff14",
   "metadata": {},
   "source": [
    "### 13. Write a Python program to generate all permutations of a given string."
   ]
  },
  {
   "cell_type": "code",
   "execution_count": 13,
   "id": "a47241b0",
   "metadata": {},
   "outputs": [
    {
     "name": "stdout",
     "output_type": "stream",
     "text": [
      "['abc', 'acb', 'bac', 'bca', 'cab', 'cba']\n"
     ]
    }
   ],
   "source": [
    "from itertools import permutations\n",
    "\n",
    "def generate_permutations(string):\n",
    "    # Use permutations function from itertools\n",
    "    perms = permutations(string)\n",
    "    return [''.join(perm) for perm in perms]\n",
    "\n",
    "# Example usage\n",
    "string = \"abc\"\n",
    "permutations = generate_permutations(string)\n",
    "print(permutations)  # Output: ['abc', 'acb', 'bac', 'bca', 'cab', 'cba']\n"
   ]
  },
  {
   "cell_type": "code",
   "execution_count": null,
   "id": "6c341a2d",
   "metadata": {},
   "outputs": [],
   "source": []
  },
  {
   "cell_type": "markdown",
   "id": "558e8991",
   "metadata": {},
   "source": [
    "### 14. Implement a function to calculate the Fibonacci sequence up to a given number of terms."
   ]
  },
  {
   "cell_type": "code",
   "execution_count": 14,
   "id": "e082be8f",
   "metadata": {},
   "outputs": [
    {
     "name": "stdout",
     "output_type": "stream",
     "text": [
      "[0, 1, 1, 2, 3, 5, 8, 13, 21, 34]\n"
     ]
    }
   ],
   "source": [
    "def fibonacci_sequence(n):\n",
    "    sequence = [0, 1]\n",
    "    for i in range(2, n):\n",
    "        next_term = sequence[i-1] + sequence[i-2]\n",
    "        sequence.append(next_term)\n",
    "    return sequence\n",
    "\n",
    "# Example usage\n",
    "num_terms = 10\n",
    "fib_sequence = fibonacci_sequence(num_terms)\n",
    "print(fib_sequence)  # Output: [0, 1, 1, 2, 3, 5, 8, 13, 21, 34]\n"
   ]
  },
  {
   "cell_type": "code",
   "execution_count": null,
   "id": "0b6f198e",
   "metadata": {},
   "outputs": [],
   "source": []
  },
  {
   "cell_type": "markdown",
   "id": "b2b97322",
   "metadata": {},
   "source": [
    "### 15. Write a program to find the median of a list of numbers."
   ]
  },
  {
   "cell_type": "code",
   "execution_count": 15,
   "id": "0b2294a3",
   "metadata": {},
   "outputs": [
    {
     "name": "stdout",
     "output_type": "stream",
     "text": [
      "3\n"
     ]
    }
   ],
   "source": [
    "def find_median(numbers):\n",
    "    numbers.sort()\n",
    "    n = len(numbers)\n",
    "    if n % 2 == 0:\n",
    "        mid = n // 2\n",
    "        median = (numbers[mid-1] + numbers[mid]) / 2\n",
    "    else:\n",
    "        mid = n // 2\n",
    "        median = numbers[mid]\n",
    "    return median\n",
    "\n",
    "# Example usage\n",
    "number_list = [1, 3, 2, 5, 4]\n",
    "median = find_median(number_list)\n",
    "print(median)  # Output: 3\n"
   ]
  },
  {
   "cell_type": "code",
   "execution_count": null,
   "id": "15ba5926",
   "metadata": {},
   "outputs": [],
   "source": []
  },
  {
   "cell_type": "markdown",
   "id": "4fd29d4a",
   "metadata": {},
   "source": [
    "### 16. Implement a function to check if a given list is sorted in non-decreasing order."
   ]
  },
  {
   "cell_type": "code",
   "execution_count": 16,
   "id": "b939638b",
   "metadata": {},
   "outputs": [
    {
     "name": "stdout",
     "output_type": "stream",
     "text": [
      "List1 is sorted.\n",
      "List2 is not sorted.\n"
     ]
    }
   ],
   "source": [
    "def is_sorted(lst):\n",
    "    return all(lst[i] <= lst[i+1] for i in range(len(lst)-1))\n",
    "\n",
    "# Example usage\n",
    "list1 = [1, 2, 3, 4, 5]\n",
    "list2 = [5, 2, 4, 1, 3]\n",
    "if is_sorted(list1):\n",
    "    print(\"List1 is sorted.\")\n",
    "else:\n",
    "    print(\"List1 is not sorted.\")\n",
    "if is_sorted(list2):\n",
    "    print(\"List2 is sorted.\")\n",
    "else:\n",
    "    print(\"List2 is not sorted.\")\n"
   ]
  },
  {
   "cell_type": "code",
   "execution_count": null,
   "id": "89802854",
   "metadata": {},
   "outputs": [],
   "source": []
  },
  {
   "cell_type": "markdown",
   "id": "a10cd5d9",
   "metadata": {},
   "source": [
    "### 17. Write a Python program to find the intersection of two lists."
   ]
  },
  {
   "cell_type": "code",
   "execution_count": 17,
   "id": "1998eade",
   "metadata": {},
   "outputs": [
    {
     "name": "stdout",
     "output_type": "stream",
     "text": [
      "[4, 5]\n"
     ]
    }
   ],
   "source": [
    "def find_intersection(list1, list2):\n",
    "    intersection = list(set(list1) & set(list2))\n",
    "    return intersection\n",
    "\n",
    "# Example usage\n",
    "list1 = [1, 2, 3, 4, 5]\n",
    "list2 = [4, 5, 6, 7, 8]\n",
    "intersection = find_intersection(list1, list2)\n",
    "print(intersection)  # Output: [4, 5]\n"
   ]
  },
  {
   "cell_type": "code",
   "execution_count": null,
   "id": "bc020687",
   "metadata": {},
   "outputs": [],
   "source": []
  },
  {
   "cell_type": "markdown",
   "id": "f0e6aa20",
   "metadata": {},
   "source": [
    "\n",
    "### 18. Implement a function to find the maximum subarray sum in a given list."
   ]
  },
  {
   "cell_type": "code",
   "execution_count": 18,
   "id": "1cf82fa2",
   "metadata": {},
   "outputs": [
    {
     "name": "stdout",
     "output_type": "stream",
     "text": [
      "6\n"
     ]
    }
   ],
   "source": [
    "# Function to find the maximum subarray sum in a given list (Kadane's algorithm)\n",
    "\n",
    "def max_subarray_sum(lst):\n",
    "    max_sum = float('-inf')\n",
    "    current_sum = 0\n",
    "    for num in lst:\n",
    "        current_sum = max(num, current_sum + num)\n",
    "        max_sum = max(max_sum, current_sum)\n",
    "    return max_sum\n",
    "\n",
    "# Example usage\n",
    "numbers = [-2, 1, -3, 4, -1, 2, 1, -5, 4]\n",
    "max_sum = max_subarray_sum(numbers)\n",
    "print(max_sum)  # Output: 6\n"
   ]
  },
  {
   "cell_type": "code",
   "execution_count": null,
   "id": "4acd4210",
   "metadata": {},
   "outputs": [],
   "source": []
  },
  {
   "cell_type": "markdown",
   "id": "dca81d0d",
   "metadata": {},
   "source": [
    "\n",
    "\n",
    "\n",
    "### 19. Write a program to remove all vowels from a given string."
   ]
  },
  {
   "cell_type": "code",
   "execution_count": 19,
   "id": "eb686108",
   "metadata": {},
   "outputs": [
    {
     "name": "stdout",
     "output_type": "stream",
     "text": [
      "Hll, Wrld!\n"
     ]
    }
   ],
   "source": [
    "def remove_vowels(string):\n",
    "    vowels = ['a', 'e', 'i', 'o', 'u']\n",
    "    string = ''.join([char for char in string if char.lower() not in vowels])\n",
    "    return string\n",
    "\n",
    "# Example usage\n",
    "input_string = \"Hello, World!\"\n",
    "result = remove_vowels(input_string)\n",
    "print(result)  # Output: Hll, Wrld!\n"
   ]
  },
  {
   "cell_type": "code",
   "execution_count": null,
   "id": "61f2aacc",
   "metadata": {},
   "outputs": [],
   "source": []
  },
  {
   "cell_type": "markdown",
   "id": "c0fec1cd",
   "metadata": {},
   "source": [
    "\n",
    "### 20. Implement a function to reverse the order of words in a given sentence."
   ]
  },
  {
   "cell_type": "code",
   "execution_count": 20,
   "id": "ac932fb1",
   "metadata": {},
   "outputs": [
    {
     "name": "stdout",
     "output_type": "stream",
     "text": [
      "World! Hello,\n"
     ]
    }
   ],
   "source": [
    "def reverse_words(sentence):\n",
    "    words = sentence.split()\n",
    "    reversed_words = words[::-1]\n",
    "    reversed_sentence = ' '.join(reversed_words)\n",
    "    return reversed_sentence\n",
    "\n",
    "# Example usage\n",
    "input_sentence = \"Hello, World!\"\n",
    "reversed_sentence = reverse_words(input_sentence)\n",
    "print(reversed_sentence)  # Output: World! Hello,\n"
   ]
  },
  {
   "cell_type": "code",
   "execution_count": null,
   "id": "caf1d69d",
   "metadata": {},
   "outputs": [],
   "source": []
  },
  {
   "cell_type": "markdown",
   "id": "7e4c8aa6",
   "metadata": {},
   "source": [
    "\n",
    "### 21. Write a Python program to check if two strings are anagrams of each other."
   ]
  },
  {
   "cell_type": "code",
   "execution_count": 21,
   "id": "88b2682d",
   "metadata": {},
   "outputs": [
    {
     "name": "stdout",
     "output_type": "stream",
     "text": [
      "The strings are anagrams.\n"
     ]
    }
   ],
   "source": [
    "from collections import Counter\n",
    "\n",
    "def are_anagrams(str1, str2):\n",
    "    return Counter(str1.lower()) == Counter(str2.lower())\n",
    "\n",
    "# Example usage\n",
    "string1 = \"listen\"\n",
    "string2 = \"silent\"\n",
    "if are_anagrams(string1, string2):\n",
    "    print(\"The strings are anagrams.\")\n",
    "else:\n",
    "    print(\"The strings are not anagrams.\")\n"
   ]
  },
  {
   "cell_type": "code",
   "execution_count": null,
   "id": "73a6de66",
   "metadata": {},
   "outputs": [],
   "source": []
  },
  {
   "cell_type": "markdown",
   "id": "f495cfca",
   "metadata": {},
   "source": [
    "\n",
    "### 22. Implement a function to find the first non-repeating character in a string."
   ]
  },
  {
   "cell_type": "code",
   "execution_count": 22,
   "id": "4cc1e978",
   "metadata": {},
   "outputs": [
    {
     "name": "stdout",
     "output_type": "stream",
     "text": [
      "h\n"
     ]
    }
   ],
   "source": [
    "from collections import OrderedDict\n",
    "\n",
    "def find_first_non_repeating_char(string):\n",
    "    char_count = OrderedDict()\n",
    "    for char in string:\n",
    "        char_count[char] = char_count.get(char, 0) + 1\n",
    "    for char, count in char_count.items():\n",
    "        if count == 1:\n",
    "            return char\n",
    "    return None\n",
    "\n",
    "# Example usage\n",
    "input_string = \"hello\"\n",
    "first_non_repeating_char = find_first_non_repeating_char(input_string)\n",
    "print(first_non_repeating_char)  # Output: 'h'\n"
   ]
  },
  {
   "cell_type": "code",
   "execution_count": null,
   "id": "aa15c5da",
   "metadata": {},
   "outputs": [],
   "source": []
  },
  {
   "cell_type": "markdown",
   "id": "9ef47992",
   "metadata": {},
   "source": [
    "\n",
    "### 23. Write a program to find the prime factors of a given number."
   ]
  },
  {
   "cell_type": "code",
   "execution_count": 23,
   "id": "d82b8006",
   "metadata": {},
   "outputs": [
    {
     "name": "stdout",
     "output_type": "stream",
     "text": [
      "[2, 2, 3, 3]\n"
     ]
    }
   ],
   "source": [
    "def find_prime_factors(n):\n",
    "    factors = []\n",
    "    i = 2\n",
    "    while i * i <= n:\n",
    "        if n % i:\n",
    "            i += 1\n",
    "        else:\n",
    "            n //= i\n",
    "            factors.append(i)\n",
    "    if n > 1:\n",
    "        factors.append(n)\n",
    "    return factors\n",
    "\n",
    "# Example usage\n",
    "number = 36\n",
    "prime_factors = find_prime_factors(number)\n",
    "print(prime_factors)  # Output: [2, 2, 3, 3]\n"
   ]
  },
  {
   "cell_type": "code",
   "execution_count": null,
   "id": "1f339d85",
   "metadata": {},
   "outputs": [],
   "source": []
  },
  {
   "cell_type": "markdown",
   "id": "7be6281e",
   "metadata": {},
   "source": [
    "\n",
    "### 24. Implement a function to check if a given number is a power of two."
   ]
  },
  {
   "cell_type": "code",
   "execution_count": 24,
   "id": "253f86bd",
   "metadata": {},
   "outputs": [
    {
     "name": "stdout",
     "output_type": "stream",
     "text": [
      "The number is a power of two.\n"
     ]
    }
   ],
   "source": [
    "def is_power_of_two(n):\n",
    "    if n <= 0:\n",
    "        return False\n",
    "    return (n & (n - 1)) == 0\n",
    "\n",
    "# Example usage\n",
    "num = 16\n",
    "if is_power_of_two(num):\n",
    "    print(\"The number is a power of two.\")\n",
    "else:\n",
    "    print(\"The number is not a power of two.\")\n"
   ]
  },
  {
   "cell_type": "code",
   "execution_count": null,
   "id": "0575a21f",
   "metadata": {},
   "outputs": [],
   "source": []
  },
  {
   "cell_type": "markdown",
   "id": "4d60d4b5",
   "metadata": {},
   "source": [
    "\n",
    "### 25. Write a Python program to merge two sorted lists into a single sorted list."
   ]
  },
  {
   "cell_type": "code",
   "execution_count": 25,
   "id": "5b91419c",
   "metadata": {},
   "outputs": [
    {
     "name": "stdout",
     "output_type": "stream",
     "text": [
      "[1, 2, 3, 4, 5, 6]\n"
     ]
    }
   ],
   "source": [
    "def merge_sorted_lists(list1, list2):\n",
    "    merged_list = []\n",
    "    i = j = 0\n",
    "    while i < len(list1) and j < len(list2):\n",
    "        if list1[i] < list2[j]:\n",
    "            merged_list.append(list1[i])\n",
    "            i += 1\n",
    "        else:\n",
    "            merged_list.append(list2[j])\n",
    "            j += 1\n",
    "    merged_list.extend(list1[i:])\n",
    "    merged_list.extend(list2[j:])\n",
    "    return merged_list\n",
    "\n",
    "# Example usage\n",
    "list1 = [1, 3, 5]\n",
    "list2 = [2, 4, 6]\n",
    "merged_list = merge_sorted_lists(list1, list2)\n",
    "print(merged_list)  # Output: [1, 2, 3, 4, 5, 6]\n"
   ]
  },
  {
   "cell_type": "code",
   "execution_count": null,
   "id": "655a1393",
   "metadata": {},
   "outputs": [],
   "source": []
  },
  {
   "cell_type": "markdown",
   "id": "a8ff509f",
   "metadata": {},
   "source": [
    "\n",
    "### 26. Implement a function to find the mode of a list of numbers."
   ]
  },
  {
   "cell_type": "code",
   "execution_count": 26,
   "id": "5e8b0498",
   "metadata": {},
   "outputs": [
    {
     "name": "stdout",
     "output_type": "stream",
     "text": [
      "[2]\n"
     ]
    }
   ],
   "source": [
    "from collections import Counter\n",
    "\n",
    "def find_mode(numbers):\n",
    "    counter = Counter(numbers)\n",
    "    max_count = max(counter.values())\n",
    "    mode = [num for num, count in counter.items() if count == max_count]\n",
    "    return mode\n",
    "\n",
    "# Example usage\n",
    "number_list = [1, 2, 3, 2, 4, 2, 5]\n",
    "mode = find_mode(number_list)\n",
    "print(mode)  # Output: [2]\n"
   ]
  },
  {
   "cell_type": "code",
   "execution_count": null,
   "id": "a1ded0d9",
   "metadata": {},
   "outputs": [],
   "source": []
  },
  {
   "cell_type": "markdown",
   "id": "8ceb45cb",
   "metadata": {},
   "source": [
    "### 27. Write a program to find the greatest common divisor (GCD) of two numbers."
   ]
  },
  {
   "cell_type": "code",
   "execution_count": 27,
   "id": "f8f834e9",
   "metadata": {},
   "outputs": [
    {
     "name": "stdout",
     "output_type": "stream",
     "text": [
      "Enter the first number: 28\n",
      "Enter the second number: 86\n",
      "The GCD of 28 and 86 is 2\n"
     ]
    }
   ],
   "source": [
    "def gcd(a, b):\n",
    "    while b:\n",
    "        a, b = b, a % b\n",
    "    return a\n",
    "\n",
    "num1 = int(input(\"Enter the first number: \"))\n",
    "num2 = int(input(\"Enter the second number: \"))\n",
    "\n",
    "result = gcd(num1, num2)\n",
    "print(\"The GCD of\", num1, \"and\", num2, \"is\", result)\n"
   ]
  },
  {
   "cell_type": "code",
   "execution_count": null,
   "id": "487ac2b9",
   "metadata": {},
   "outputs": [],
   "source": []
  },
  {
   "cell_type": "markdown",
   "id": "a7b50d88",
   "metadata": {},
   "source": [
    "\n",
    "### 28. Implement a function to calculate the square root of a given number."
   ]
  },
  {
   "cell_type": "code",
   "execution_count": 28,
   "id": "2bd033e7",
   "metadata": {},
   "outputs": [
    {
     "name": "stdout",
     "output_type": "stream",
     "text": [
      "Enter a number: 56\n",
      "The square root of 56.0 is 7.4833147735478915\n"
     ]
    }
   ],
   "source": [
    "def square_root(number):\n",
    "    if number == 0:\n",
    "        return 0\n",
    "    \n",
    "    guess = number / 2\n",
    "    while True:\n",
    "        new_guess = (guess + number / guess) / 2\n",
    "        if abs(new_guess - guess) < 0.0001:  # Adjust the desired precision as needed\n",
    "            return new_guess\n",
    "        guess = new_guess\n",
    "\n",
    "num = float(input(\"Enter a number: \"))\n",
    "result = square_root(num)\n",
    "print(\"The square root of\", num, \"is\", result)\n"
   ]
  },
  {
   "cell_type": "code",
   "execution_count": null,
   "id": "fa83b7fa",
   "metadata": {},
   "outputs": [],
   "source": []
  },
  {
   "cell_type": "markdown",
   "id": "28f78520",
   "metadata": {},
   "source": [
    "\n",
    "### 29. Write a Python program to check if a given string is a valid palindrome ignoring non-alphanumeric characters."
   ]
  },
  {
   "cell_type": "code",
   "execution_count": 29,
   "id": "6af26777",
   "metadata": {},
   "outputs": [
    {
     "name": "stdout",
     "output_type": "stream",
     "text": [
      "Enter a string: extra\n",
      "The string is not a valid palindrome.\n"
     ]
    }
   ],
   "source": [
    "import re\n",
    "\n",
    "def is_valid_palindrome(string):\n",
    "    # Remove non-alphanumeric characters\n",
    "    alphanumeric_string = re.sub(r'\\W+', '', string.lower())\n",
    "    \n",
    "    # Check if the alphanumeric string is equal to its reverse\n",
    "    return alphanumeric_string == alphanumeric_string[::-1]\n",
    "\n",
    "text = input(\"Enter a string: \")\n",
    "if is_valid_palindrome(text):\n",
    "    print(\"The string is a valid palindrome.\")\n",
    "else:\n",
    "    print(\"The string is not a valid palindrome.\")\n"
   ]
  },
  {
   "cell_type": "code",
   "execution_count": null,
   "id": "bda972eb",
   "metadata": {},
   "outputs": [],
   "source": []
  },
  {
   "cell_type": "markdown",
   "id": "3c7b43cb",
   "metadata": {},
   "source": [
    "\n",
    "### 30. Implement a function to find the minimum element in a rotated sorted list."
   ]
  },
  {
   "cell_type": "code",
   "execution_count": 30,
   "id": "38c14bc3",
   "metadata": {},
   "outputs": [
    {
     "name": "stdout",
     "output_type": "stream",
     "text": [
      "The minimum element in the list is: 0\n"
     ]
    }
   ],
   "source": [
    "def find_minimum(nums):\n",
    "    left = 0\n",
    "    right = len(nums) - 1\n",
    "    \n",
    "    while left < right:\n",
    "        mid = left + (right - left) // 2\n",
    "        \n",
    "        if nums[mid] > nums[right]:\n",
    "            left = mid + 1\n",
    "        else:\n",
    "            right = mid\n",
    "    \n",
    "    return nums[left]\n",
    "\n",
    "# Example usage:\n",
    "rotated_list = [4, 5, 6, 7, 0, 1, 2]\n",
    "minimum = find_minimum(rotated_list)\n",
    "print(\"The minimum element in the list is:\", minimum)\n"
   ]
  },
  {
   "cell_type": "code",
   "execution_count": null,
   "id": "4a6ba378",
   "metadata": {},
   "outputs": [],
   "source": []
  },
  {
   "cell_type": "markdown",
   "id": "61c0e8e3",
   "metadata": {},
   "source": [
    "\n",
    "### 31. Write a program to find the sum of all even numbers in a list."
   ]
  },
  {
   "cell_type": "code",
   "execution_count": 31,
   "id": "7e01ffa4",
   "metadata": {},
   "outputs": [
    {
     "name": "stdout",
     "output_type": "stream",
     "text": [
      "The sum of even numbers in the list is: 30\n"
     ]
    }
   ],
   "source": [
    "def sum_of_even_numbers(numbers):\n",
    "    sum = 0\n",
    "    for num in numbers:\n",
    "        if num % 2 == 0:\n",
    "            sum += num\n",
    "    return sum\n",
    "\n",
    "# Example usage:\n",
    "list_of_numbers = [1, 2, 3, 4, 5, 6, 7, 8, 9, 10]\n",
    "result = sum_of_even_numbers(list_of_numbers)\n",
    "print(\"The sum of even numbers in the list is:\", result)\n"
   ]
  },
  {
   "cell_type": "code",
   "execution_count": null,
   "id": "67470edf",
   "metadata": {},
   "outputs": [],
   "source": []
  },
  {
   "cell_type": "markdown",
   "id": "76ba4225",
   "metadata": {},
   "source": [
    "\n",
    "### 32. Implement a function to calculate the power of a number using recursion."
   ]
  },
  {
   "cell_type": "code",
   "execution_count": 32,
   "id": "06de2ba8",
   "metadata": {},
   "outputs": [
    {
     "name": "stdout",
     "output_type": "stream",
     "text": [
      "Enter the base number: 3\n",
      "Enter the exponent: 5\n",
      "3.0 raised to the power of 5 is 243.0\n"
     ]
    }
   ],
   "source": [
    "def power(base, exponent):\n",
    "    if exponent == 0:\n",
    "        return 1\n",
    "    elif exponent > 0:\n",
    "        return base * power(base, exponent - 1)\n",
    "    else:\n",
    "        return 1 / (base * power(base, -exponent - 1))\n",
    "\n",
    "base = float(input(\"Enter the base number: \"))\n",
    "exponent = int(input(\"Enter the exponent: \"))\n",
    "\n",
    "result = power(base, exponent)\n",
    "print(base, \"raised to the power of\", exponent, \"is\", result)\n"
   ]
  },
  {
   "cell_type": "code",
   "execution_count": null,
   "id": "6cee4ecd",
   "metadata": {},
   "outputs": [],
   "source": []
  },
  {
   "cell_type": "markdown",
   "id": "3aab9da8",
   "metadata": {},
   "source": [
    "### 33. Write a Python program to remove duplicates from a list while preserving the order."
   ]
  },
  {
   "cell_type": "code",
   "execution_count": 33,
   "id": "d97fb1e2",
   "metadata": {},
   "outputs": [
    {
     "name": "stdout",
     "output_type": "stream",
     "text": [
      "[1, 2, 3, 4, 5, 6]\n"
     ]
    }
   ],
   "source": [
    "def remove_duplicates(lst):\n",
    "    seen = set()\n",
    "    result = []\n",
    "    for item in lst:\n",
    "        if item not in seen:\n",
    "            seen.add(item)\n",
    "            result.append(item)\n",
    "    return result\n",
    "\n",
    "# Example usage\n",
    "my_list = [1, 2, 3, 2, 4, 5, 1, 6, 5]\n",
    "new_list = remove_duplicates(my_list)\n",
    "print(new_list)\n"
   ]
  },
  {
   "cell_type": "code",
   "execution_count": null,
   "id": "ab81c44c",
   "metadata": {},
   "outputs": [],
   "source": []
  },
  {
   "cell_type": "markdown",
   "id": "3297b25e",
   "metadata": {},
   "source": [
    "\n",
    "### 34. Implement a function to find the longest common prefix among a list of strings."
   ]
  },
  {
   "cell_type": "code",
   "execution_count": 34,
   "id": "8b64d3b4",
   "metadata": {},
   "outputs": [
    {
     "name": "stdout",
     "output_type": "stream",
     "text": [
      "app\n"
     ]
    }
   ],
   "source": [
    "def longest_common_prefix(strings):\n",
    "    if not strings:\n",
    "        return \"\"\n",
    "\n",
    "    prefix = strings[0]\n",
    "    for string in strings[1:]:\n",
    "        while string[:len(prefix)] != prefix:\n",
    "            prefix = prefix[:-1]\n",
    "            if not prefix:\n",
    "                return \"\"\n",
    "    return prefix\n",
    "\n",
    "# Example usage\n",
    "my_strings = [\"apple\", \"app\", \"application\"]\n",
    "common_prefix = longest_common_prefix(my_strings)\n",
    "print(common_prefix)\n"
   ]
  },
  {
   "cell_type": "code",
   "execution_count": null,
   "id": "fc7909c8",
   "metadata": {},
   "outputs": [],
   "source": []
  },
  {
   "cell_type": "markdown",
   "id": "7c5a5e04",
   "metadata": {},
   "source": [
    "\n",
    "### 35. Write a program to check if a given number is a perfect square."
   ]
  },
  {
   "cell_type": "code",
   "execution_count": 35,
   "id": "958f22e7",
   "metadata": {},
   "outputs": [
    {
     "name": "stdout",
     "output_type": "stream",
     "text": [
      "16 is a perfect square.\n"
     ]
    }
   ],
   "source": [
    "def is_perfect_square(num):\n",
    "    if num < 0:\n",
    "        return False\n",
    "    if num == 0:\n",
    "        return True\n",
    "\n",
    "    guess = num // 2\n",
    "    while guess * guess > num:\n",
    "        guess = (guess + num // guess) // 2\n",
    "\n",
    "    return guess * guess == num\n",
    "\n",
    "# Example usage\n",
    "number = 16\n",
    "if is_perfect_square(number):\n",
    "    print(f\"{number} is a perfect square.\")\n",
    "else:\n",
    "    print(f\"{number} is not a perfect square.\")\n"
   ]
  },
  {
   "cell_type": "code",
   "execution_count": null,
   "id": "f7513519",
   "metadata": {},
   "outputs": [],
   "source": []
  },
  {
   "cell_type": "markdown",
   "id": "18cf54db",
   "metadata": {},
   "source": [
    "\n",
    "### 36. Implement a function to calculate the product of all elements in a list."
   ]
  },
  {
   "cell_type": "code",
   "execution_count": 36,
   "id": "655ff795",
   "metadata": {},
   "outputs": [
    {
     "name": "stdout",
     "output_type": "stream",
     "text": [
      "120\n"
     ]
    }
   ],
   "source": [
    "def calculate_product(lst):\n",
    "    product = 1\n",
    "    for num in lst:\n",
    "        product *= num\n",
    "    return product\n",
    "\n",
    "# Example usage\n",
    "my_list = [1, 2, 3, 4, 5]\n",
    "product = calculate_product(my_list)\n",
    "print(product)\n"
   ]
  },
  {
   "cell_type": "code",
   "execution_count": null,
   "id": "299ea699",
   "metadata": {},
   "outputs": [],
   "source": []
  },
  {
   "cell_type": "markdown",
   "id": "4d9635e2",
   "metadata": {},
   "source": [
    "\n",
    "### 37. Write a Python program to reverse the order of words in a sentence while preserving the word order."
   ]
  },
  {
   "cell_type": "code",
   "execution_count": 37,
   "id": "18392648",
   "metadata": {},
   "outputs": [
    {
     "name": "stdout",
     "output_type": "stream",
     "text": [
      "120\n"
     ]
    }
   ],
   "source": [
    "def calculate_product(lst):\n",
    "    product = 1\n",
    "    for num in lst:\n",
    "        product *= num\n",
    "    return product\n",
    "\n",
    "# Example usage\n",
    "my_list = [1, 2, 3, 4, 5]\n",
    "product = calculate_product(my_list)\n",
    "print(product)\n"
   ]
  },
  {
   "cell_type": "code",
   "execution_count": null,
   "id": "f28b3114",
   "metadata": {},
   "outputs": [],
   "source": []
  },
  {
   "cell_type": "markdown",
   "id": "2ce98451",
   "metadata": {},
   "source": [
    "\n",
    "### 38. Implement a function to find the missing number in a given list of consecutive numbers."
   ]
  },
  {
   "cell_type": "code",
   "execution_count": 38,
   "id": "61b354fe",
   "metadata": {},
   "outputs": [
    {
     "name": "stdout",
     "output_type": "stream",
     "text": [
      "4\n"
     ]
    }
   ],
   "source": [
    "def find_missing_number(lst):\n",
    "    n = len(lst) + 1\n",
    "    total_sum = (n * (n + 1)) // 2\n",
    "    actual_sum = sum(lst)\n",
    "    missing_number = total_sum - actual_sum\n",
    "    return missing_number\n",
    "\n",
    "# Example usage\n",
    "my_list = [1, 2, 3, 5, 6]\n",
    "missing_number = find_missing_number(my_list)\n",
    "print(missing_number)\n"
   ]
  },
  {
   "cell_type": "code",
   "execution_count": null,
   "id": "1093d6a4",
   "metadata": {},
   "outputs": [],
   "source": []
  },
  {
   "cell_type": "markdown",
   "id": "52bcb860",
   "metadata": {},
   "source": [
    "\n",
    "### 39. Write a program to find the sum of digits of a given number."
   ]
  },
  {
   "cell_type": "code",
   "execution_count": 39,
   "id": "200bc8bd",
   "metadata": {},
   "outputs": [
    {
     "name": "stdout",
     "output_type": "stream",
     "text": [
      "15\n"
     ]
    }
   ],
   "source": [
    "def sum_of_digits(number):\n",
    "    total = 0\n",
    "    while number > 0:\n",
    "        digit = number % 10\n",
    "        total += digit\n",
    "        number //= 10\n",
    "    return total\n",
    "\n",
    "# Example usage\n",
    "num = 12345\n",
    "digit_sum = sum_of_digits(num)\n",
    "print(digit_sum)\n"
   ]
  },
  {
   "cell_type": "code",
   "execution_count": null,
   "id": "893caa09",
   "metadata": {},
   "outputs": [],
   "source": []
  },
  {
   "cell_type": "markdown",
   "id": "972eb615",
   "metadata": {},
   "source": [
    "### 40. Implement a function to check if a given string is a valid palindrome considering case sensitivity."
   ]
  },
  {
   "cell_type": "code",
   "execution_count": 40,
   "id": "6d51d77c",
   "metadata": {},
   "outputs": [],
   "source": [
    "def is_valid_palindrome(s):\n",
    "    # Remove non-alphanumeric characters and convert to lowercase\n",
    "    s = ''.join(c.lower() for c in s if c.isalnum())\n",
    "    # Check if the string is equal to its reverse\n",
    "    return s == s[::-1]\n"
   ]
  },
  {
   "cell_type": "code",
   "execution_count": 41,
   "id": "89d21162",
   "metadata": {},
   "outputs": [
    {
     "name": "stdout",
     "output_type": "stream",
     "text": [
      "True\n",
      "True\n",
      "False\n"
     ]
    }
   ],
   "source": [
    "print(is_valid_palindrome(\"A man, a plan, a canal: Panama\"))  # True\n",
    "print(is_valid_palindrome(\"racecar\"))  # True\n",
    "print(is_valid_palindrome(\"hello\"))  # False\n"
   ]
  },
  {
   "cell_type": "code",
   "execution_count": null,
   "id": "faed8f53",
   "metadata": {},
   "outputs": [],
   "source": []
  },
  {
   "cell_type": "markdown",
   "id": "cc46d41c",
   "metadata": {},
   "source": [
    "\n",
    "### 41. Write a Python program to find the smallest missing positive integer in a list."
   ]
  },
  {
   "cell_type": "code",
   "execution_count": 42,
   "id": "8426e448",
   "metadata": {},
   "outputs": [],
   "source": [
    "def find_smallest_missing_positive(nums):\n",
    "    # Separate positive numbers from the rest\n",
    "    positives = [num for num in nums if num > 0]\n",
    "    # Sort the positive numbers\n",
    "    positives.sort()\n",
    "    \n",
    "    # Find the smallest missing positive integer\n",
    "    smallest_missing = 1\n",
    "    for num in positives:\n",
    "        if num == smallest_missing:\n",
    "            smallest_missing += 1\n",
    "        elif num > smallest_missing:\n",
    "            break\n",
    "    \n",
    "    return smallest_missing\n"
   ]
  },
  {
   "cell_type": "code",
   "execution_count": 43,
   "id": "e854e728",
   "metadata": {},
   "outputs": [
    {
     "name": "stdout",
     "output_type": "stream",
     "text": [
      "3\n",
      "2\n",
      "1\n"
     ]
    }
   ],
   "source": [
    "print(find_smallest_missing_positive([1, 2, 0]))  # 3\n",
    "print(find_smallest_missing_positive([3, 4, -1, 1]))  # 2\n",
    "print(find_smallest_missing_positive([7, 8, 9, 11, 12]))  # 1\n"
   ]
  },
  {
   "cell_type": "code",
   "execution_count": null,
   "id": "2a9ce8de",
   "metadata": {},
   "outputs": [],
   "source": []
  },
  {
   "cell_type": "markdown",
   "id": "f2b93615",
   "metadata": {},
   "source": [
    "\n",
    "### 42. Implement a function to find the longest palindrome substring in a given string."
   ]
  },
  {
   "cell_type": "code",
   "execution_count": 44,
   "id": "696a7a79",
   "metadata": {},
   "outputs": [],
   "source": [
    "def find_longest_palindrome(s):\n",
    "    n = len(s)\n",
    "    longest_palindrome = \"\"\n",
    "    \n",
    "    for i in range(n):\n",
    "        # Check for odd-length palindromes\n",
    "        left = right = i\n",
    "        while left >= 0 and right < n and s[left] == s[right]:\n",
    "            substring = s[left:right + 1]\n",
    "            if len(substring) > len(longest_palindrome):\n",
    "                longest_palindrome = substring\n",
    "            left -= 1\n",
    "            right += 1\n",
    "        \n",
    "        # Check for even-length palindromes\n",
    "        left = i\n",
    "        right = i + 1\n",
    "        while left >= 0 and right < n and s[left] == s[right]:\n",
    "            substring = s[left:right + 1]\n",
    "            if len(substring) > len(longest_palindrome):\n",
    "                longest_palindrome = substring\n",
    "            left -= 1\n",
    "            right += 1\n",
    "    \n",
    "    return longest_palindrome\n"
   ]
  },
  {
   "cell_type": "code",
   "execution_count": 45,
   "id": "66a6a589",
   "metadata": {},
   "outputs": [
    {
     "name": "stdout",
     "output_type": "stream",
     "text": [
      "bab\n",
      "bb\n",
      "abcba\n"
     ]
    }
   ],
   "source": [
    "print(find_longest_palindrome(\"babad\"))  # \"bab\"\n",
    "print(find_longest_palindrome(\"cbbd\"))  # \"bb\"\n",
    "print(find_longest_palindrome(\"abcba\"))  # \"abcba\"\n"
   ]
  },
  {
   "cell_type": "code",
   "execution_count": null,
   "id": "0ed0a968",
   "metadata": {},
   "outputs": [],
   "source": []
  },
  {
   "cell_type": "markdown",
   "id": "c1f62114",
   "metadata": {},
   "source": [
    "\n",
    "### 43. Write a program to find the number of occurrences of a given element in a list."
   ]
  },
  {
   "cell_type": "code",
   "execution_count": 46,
   "id": "181c9df9",
   "metadata": {},
   "outputs": [],
   "source": [
    "def count_occurrences(lst, element):\n",
    "    count = 0\n",
    "    for item in lst:\n",
    "        if item == element:\n",
    "            count += 1\n",
    "    return count\n"
   ]
  },
  {
   "cell_type": "code",
   "execution_count": 47,
   "id": "8f976677",
   "metadata": {},
   "outputs": [
    {
     "name": "stdout",
     "output_type": "stream",
     "text": [
      "3\n",
      "0\n"
     ]
    }
   ],
   "source": [
    "numbers = [1, 2, 3, 4, 4, 4, 5, 6, 7]\n",
    "print(count_occurrences(numbers, 4))  # 3\n",
    "print(count_occurrences(numbers, 9))  # 0\n"
   ]
  },
  {
   "cell_type": "code",
   "execution_count": null,
   "id": "7373dc08",
   "metadata": {},
   "outputs": [],
   "source": []
  },
  {
   "cell_type": "markdown",
   "id": "de6c8217",
   "metadata": {},
   "source": [
    "\n",
    "### 44. Implement a function to check if a given number is a perfect number"
   ]
  },
  {
   "cell_type": "code",
   "execution_count": 48,
   "id": "07f75816",
   "metadata": {},
   "outputs": [],
   "source": [
    "def is_perfect_number(num):\n",
    "    if num <= 0:\n",
    "        return False\n",
    "    \n",
    "    divisors = []\n",
    "    for i in range(1, num):\n",
    "        if num % i == 0:\n",
    "            divisors.append(i)\n",
    "    \n",
    "    return sum(divisors) == num\n"
   ]
  },
  {
   "cell_type": "code",
   "execution_count": 49,
   "id": "0f102db8",
   "metadata": {},
   "outputs": [
    {
     "name": "stdout",
     "output_type": "stream",
     "text": [
      "True\n",
      "True\n",
      "False\n"
     ]
    }
   ],
   "source": [
    "print(is_perfect_number(6))  # True\n",
    "print(is_perfect_number(28))  # True\n",
    "print(is_perfect_number(12))  # False\n"
   ]
  },
  {
   "cell_type": "code",
   "execution_count": null,
   "id": "ea2cd702",
   "metadata": {},
   "outputs": [],
   "source": []
  },
  {
   "cell_type": "markdown",
   "id": "a60af1c6",
   "metadata": {},
   "source": [
    "\n",
    "### 45. Write a Python program to remove all duplicates from a string."
   ]
  },
  {
   "cell_type": "code",
   "execution_count": 50,
   "id": "6d30ddcc",
   "metadata": {},
   "outputs": [],
   "source": [
    "def remove_duplicates(s):\n",
    "    return ''.join(sorted(set(s), key=s.index))\n"
   ]
  },
  {
   "cell_type": "code",
   "execution_count": 51,
   "id": "99b6ea47",
   "metadata": {},
   "outputs": [
    {
     "name": "stdout",
     "output_type": "stream",
     "text": [
      "Helo\n",
      "abcde\n"
     ]
    }
   ],
   "source": [
    "print(remove_duplicates(\"Hello\"))  # \"Helo\"\n",
    "print(remove_duplicates(\"abbcccddddeeeee\"))  # \"abcde\"\n"
   ]
  },
  {
   "cell_type": "code",
   "execution_count": null,
   "id": "d4f35dc3",
   "metadata": {},
   "outputs": [],
   "source": []
  },
  {
   "cell_type": "markdown",
   "id": "7cd18ae4",
   "metadata": {},
   "source": [
    ".\n",
    "### 46. Implement a function to find the first missing positive"
   ]
  },
  {
   "cell_type": "code",
   "execution_count": 52,
   "id": "89d2809b",
   "metadata": {},
   "outputs": [],
   "source": [
    "def find_first_missing_positive(nums):\n",
    "    n = len(nums)\n",
    "    \n",
    "    # Move positive numbers to their respective indices\n",
    "    i = 0\n",
    "    while i < n:\n",
    "        # Check if the number is positive and within the range of indices\n",
    "        if 1 <= nums[i] <= n and nums[i] != nums[nums[i] - 1]:\n",
    "            # Swap the number to its correct position\n",
    "            nums[nums[i] - 1], nums[i] = nums[i], nums[nums[i] - 1]\n",
    "        else:\n",
    "            i += 1\n",
    "    \n",
    "    # Find the first missing positive number\n",
    "    for i in range(n):\n",
    "        if nums[i] != i + 1:\n",
    "            return i + 1\n",
    "    \n",
    "    return n + 1\n"
   ]
  },
  {
   "cell_type": "code",
   "execution_count": 53,
   "id": "a38e7c25",
   "metadata": {},
   "outputs": [
    {
     "name": "stdout",
     "output_type": "stream",
     "text": [
      "3\n",
      "2\n",
      "1\n"
     ]
    }
   ],
   "source": [
    "print(find_first_missing_positive([1, 2, 0]))  # 3\n",
    "print(find_first_missing_positive([3, 4, -1, 1]))  # 2\n",
    "print(find_first_missing_positive([7, 8, 9, 11, 12]))  # 1\n"
   ]
  },
  {
   "cell_type": "code",
   "execution_count": null,
   "id": "a7f6f1f1",
   "metadata": {},
   "outputs": [],
   "source": []
  },
  {
   "cell_type": "code",
   "execution_count": null,
   "id": "dedb8b77",
   "metadata": {},
   "outputs": [],
   "source": []
  },
  {
   "cell_type": "code",
   "execution_count": null,
   "id": "d0fac8e0",
   "metadata": {},
   "outputs": [],
   "source": []
  }
 ],
 "metadata": {
  "kernelspec": {
   "display_name": "Python 3 (ipykernel)",
   "language": "python",
   "name": "python3"
  },
  "language_info": {
   "codemirror_mode": {
    "name": "ipython",
    "version": 3
   },
   "file_extension": ".py",
   "mimetype": "text/x-python",
   "name": "python",
   "nbconvert_exporter": "python",
   "pygments_lexer": "ipython3",
   "version": "3.10.9"
  }
 },
 "nbformat": 4,
 "nbformat_minor": 5
}
